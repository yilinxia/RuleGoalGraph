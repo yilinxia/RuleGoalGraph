{
 "cells": [
  {
   "cell_type": "code",
   "execution_count": 1,
   "id": "e259e4c6-9336-49b4-9f66-cfd4ab7e91f0",
   "metadata": {
    "tags": []
   },
   "outputs": [],
   "source": [
    "import rulegoal_graph as rgg"
   ]
  },
  {
   "cell_type": "code",
   "execution_count": 2,
   "id": "22ef4d1d-50de-402a-a6ae-ef5af96470bf",
   "metadata": {
    "tags": []
   },
   "outputs": [
    {
     "name": "stdout",
     "output_type": "stream",
     "text": [
      "err: no attribute: head #program base.\n",
      "body err: no attribute: symbol e(X,Y) :- dom(X); dom(Y); X != Y. X != Y\n"
     ]
    }
   ],
   "source": [
    "rgg.rule_vis(\"tournament_program.lp\")"
   ]
  }
 ],
 "metadata": {
  "kernelspec": {
   "display_name": "Python 3 (ipykernel)",
   "language": "python",
   "name": "python3"
  },
  "language_info": {
   "codemirror_mode": {
    "name": "ipython",
    "version": 3
   },
   "file_extension": ".py",
   "mimetype": "text/x-python",
   "name": "python",
   "nbconvert_exporter": "python",
   "pygments_lexer": "ipython3",
   "version": "3.8.16"
  },
  "vscode": {
   "interpreter": {
    "hash": "949777d72b0d2535278d3dc13498b2535136f6dfe0678499012e853ee9abcab1"
   }
  }
 },
 "nbformat": 4,
 "nbformat_minor": 5
}
