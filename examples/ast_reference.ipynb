{
 "cells": [
  {
   "cell_type": "markdown",
   "id": "facb62c3-ab42-4277-98cb-37cec74f7a48",
   "metadata": {},
   "source": [
    "# ast intepretation\n",
    "This notebook aims to works as a playground for us to quickly access the different functions for `clingo.ast` and how it helps us extract information from the rules"
   ]
  },
  {
   "cell_type": "markdown",
   "id": "99239da1-6a3d-4e1d-9730-5c517b18612d",
   "metadata": {},
   "source": []
  },
  {
   "cell_type": "code",
   "execution_count": 1,
   "id": "941e8008-bf75-4e76-be78-78e155c2806f",
   "metadata": {},
   "outputs": [],
   "source": [
    "import clingo.ast as ast"
   ]
  },
  {
   "cell_type": "markdown",
   "id": "21772bf9-dcc6-4edc-8aca-30191b82c15d",
   "metadata": {},
   "source": [
    "# Facts"
   ]
  },
  {
   "cell_type": "markdown",
   "id": "5ff1b27f-b753-443b-baf8-0319548616b6",
   "metadata": {},
   "source": [
    "## facts type1"
   ]
  },
  {
   "cell_type": "code",
   "execution_count": 2,
   "id": "12b9b782-371d-4e7f-81c0-779e0280425c",
   "metadata": {
    "tags": []
   },
   "outputs": [
    {
     "name": "stdout",
     "output_type": "stream",
     "text": [
      "Overwriting lp_files/facts_1.lp\n"
     ]
    }
   ],
   "source": [
    "%%file lp_files/facts_1.lp\n",
    "\n",
    "trail(a,b)."
   ]
  },
  {
   "cell_type": "code",
   "execution_count": 3,
   "id": "877e22e8-8bd6-40c5-8ebf-62c7d2693c54",
   "metadata": {
    "tags": []
   },
   "outputs": [],
   "source": [
    "file_name=[\"lp_files/facts_1.lp\"]\n",
    "prg_1 = []\n",
    "ast.parse_files(file_name, lambda x: prg_1.append(x))"
   ]
  },
  {
   "cell_type": "code",
   "execution_count": 4,
   "id": "a8b3ba51-5c17-449a-b04c-9171eb46e55c",
   "metadata": {
    "tags": []
   },
   "outputs": [
    {
     "data": {
      "text/plain": [
       "'trail'"
      ]
     },
     "execution_count": 4,
     "metadata": {},
     "output_type": "execute_result"
    }
   ],
   "source": [
    "prg_1[1].head.atom.values()[0].name"
   ]
  },
  {
   "cell_type": "code",
   "execution_count": 5,
   "id": "06dbec80-afc9-4d59-b6fc-e5ea1aa777bb",
   "metadata": {
    "tags": []
   },
   "outputs": [
    {
     "data": {
      "text/plain": [
       "'trail'"
      ]
     },
     "execution_count": 5,
     "metadata": {},
     "output_type": "execute_result"
    }
   ],
   "source": [
    "prg_1[1].head.atom.symbol.name"
   ]
  },
  {
   "cell_type": "code",
   "execution_count": 6,
   "id": "0dfd6cfd-567a-41c6-9385-338405157e71",
   "metadata": {
    "tags": []
   },
   "outputs": [
    {
     "data": {
      "text/plain": [
       "2"
      ]
     },
     "execution_count": 6,
     "metadata": {},
     "output_type": "execute_result"
    }
   ],
   "source": [
    "len(prg_1[1].head.atom.symbol.arguments)"
   ]
  },
  {
   "cell_type": "code",
   "execution_count": 7,
   "id": "fb1e07a6-0e54-4b6b-bbf8-abfbc0fa64d6",
   "metadata": {
    "tags": []
   },
   "outputs": [
    {
     "data": {
      "text/plain": [
       "Function('a', [], True)"
      ]
     },
     "execution_count": 7,
     "metadata": {},
     "output_type": "execute_result"
    }
   ],
   "source": [
    "prg_1[1].head.atom.symbol.arguments[0].values()[1]"
   ]
  },
  {
   "cell_type": "code",
   "execution_count": 8,
   "id": "b36e3c7d-1b29-49d1-9cbb-8e36f447e41e",
   "metadata": {
    "tags": []
   },
   "outputs": [
    {
     "data": {
      "text/plain": [
       "'a'"
      ]
     },
     "execution_count": 8,
     "metadata": {},
     "output_type": "execute_result"
    }
   ],
   "source": [
    "prg_1[1].head.atom.symbol.arguments[0].values()[1].name"
   ]
  },
  {
   "cell_type": "code",
   "execution_count": 9,
   "id": "738b2bb2-db55-40e0-9113-c40899f5e656",
   "metadata": {
    "tags": []
   },
   "outputs": [
    {
     "data": {
      "text/plain": [
       "'b'"
      ]
     },
     "execution_count": 9,
     "metadata": {},
     "output_type": "execute_result"
    }
   ],
   "source": [
    "prg_1[1].head.atom.symbol.arguments[1].values()[1].name"
   ]
  },
  {
   "cell_type": "markdown",
   "id": "0b87592d-83d4-4e19-8944-65c4f0e7ea9a",
   "metadata": {},
   "source": [
    "## facts type2"
   ]
  },
  {
   "cell_type": "code",
   "execution_count": 10,
   "id": "32a2dcc0-444d-4253-ad6e-e201bde75218",
   "metadata": {
    "tags": []
   },
   "outputs": [
    {
     "name": "stdout",
     "output_type": "stream",
     "text": [
      "Overwriting lp_files/facts_2.lp\n"
     ]
    }
   ],
   "source": [
    "%%file lp_files/facts_2.lp\n",
    "\n",
    "dom(1..5)."
   ]
  },
  {
   "cell_type": "code",
   "execution_count": 11,
   "id": "bd53d7fc-b1ef-4f70-9c38-8bfd869d4c64",
   "metadata": {
    "tags": []
   },
   "outputs": [],
   "source": [
    "file_name=[\"lp_files/facts_2.lp\"]\n",
    "prg_2 = []\n",
    "ast.parse_files(file_name, lambda x: prg_2.append(x))"
   ]
  },
  {
   "cell_type": "code",
   "execution_count": 12,
   "id": "5afaf973-6989-416b-9320-92a3a865a791",
   "metadata": {
    "tags": []
   },
   "outputs": [
    {
     "data": {
      "text/plain": [
       "'dom'"
      ]
     },
     "execution_count": 12,
     "metadata": {},
     "output_type": "execute_result"
    }
   ],
   "source": [
    "prg_2[1].head.atom.values()[0].name"
   ]
  },
  {
   "cell_type": "code",
   "execution_count": 13,
   "id": "2164402b-47fc-4f58-9f4e-47c7ecac8d2d",
   "metadata": {
    "tags": []
   },
   "outputs": [
    {
     "data": {
      "text/plain": [
       "1"
      ]
     },
     "execution_count": 13,
     "metadata": {},
     "output_type": "execute_result"
    }
   ],
   "source": [
    "len(prg_2[1].head.atom.symbol.arguments)"
   ]
  },
  {
   "cell_type": "code",
   "execution_count": 14,
   "id": "653e6a02-e633-4e98-8369-d076a6914db8",
   "metadata": {
    "tags": []
   },
   "outputs": [
    {
     "data": {
      "text/plain": [
       "Number(1)"
      ]
     },
     "execution_count": 14,
     "metadata": {},
     "output_type": "execute_result"
    }
   ],
   "source": [
    "prg_2[1].head.atom.symbol.arguments[0].values()[1].values()[1]"
   ]
  },
  {
   "cell_type": "code",
   "execution_count": 15,
   "id": "54141ab4-09e1-40c4-a30a-c423de5b0cd0",
   "metadata": {
    "tags": []
   },
   "outputs": [
    {
     "data": {
      "text/plain": [
       "Number(5)"
      ]
     },
     "execution_count": 15,
     "metadata": {},
     "output_type": "execute_result"
    }
   ],
   "source": [
    "prg_2[1].head.atom.symbol.arguments[0].values()[2].values()[1]"
   ]
  },
  {
   "cell_type": "markdown",
   "id": "523232b8-025d-4753-b0c9-39febb34f491",
   "metadata": {},
   "source": [
    "# Rules"
   ]
  },
  {
   "cell_type": "markdown",
   "id": "3c36b5d6-5820-4556-8cfc-513006b74862",
   "metadata": {
    "tags": []
   },
   "source": [
    "## rule type1: regular"
   ]
  },
  {
   "cell_type": "code",
   "execution_count": 16,
   "id": "4d09465c-c6ff-454e-bf0c-ef6ee6d9b7e2",
   "metadata": {
    "tags": []
   },
   "outputs": [
    {
     "name": "stdout",
     "output_type": "stream",
     "text": [
      "Overwriting lp_files/rule_1.lp\n"
     ]
    }
   ],
   "source": [
    "%%file lp_files/rule_1.lp\n",
    "\n",
    "grandparent(X, Y) :- parent(X, Z), parent(Z, Y)."
   ]
  },
  {
   "cell_type": "code",
   "execution_count": 17,
   "id": "cd7445e6-0ac4-4838-abb9-b832ec04f7d3",
   "metadata": {},
   "outputs": [],
   "source": [
    "file_name=[\"lp_files/rule_1.lp\"]\n",
    "prg_3 = []\n",
    "ast.parse_files(file_name, lambda x: prg_3.append(x))"
   ]
  },
  {
   "cell_type": "markdown",
   "id": "e32c873a-d6e6-4268-b220-86d352508819",
   "metadata": {},
   "source": [
    "### rule1 head"
   ]
  },
  {
   "cell_type": "code",
   "execution_count": 18,
   "id": "d6f184a0-1dfb-407b-acbe-55d927c56460",
   "metadata": {
    "tags": []
   },
   "outputs": [
    {
     "data": {
      "text/plain": [
       "'grandparent'"
      ]
     },
     "execution_count": 18,
     "metadata": {},
     "output_type": "execute_result"
    }
   ],
   "source": [
    "prg_3[1].head.atom.values()[0].name"
   ]
  },
  {
   "cell_type": "code",
   "execution_count": 19,
   "id": "99502848-24f8-48de-b566-4ff5154a4af0",
   "metadata": {
    "tags": []
   },
   "outputs": [
    {
     "data": {
      "text/plain": [
       "2"
      ]
     },
     "execution_count": 19,
     "metadata": {},
     "output_type": "execute_result"
    }
   ],
   "source": [
    "len(prg_3[1].head.atom.symbol.arguments)"
   ]
  },
  {
   "cell_type": "code",
   "execution_count": 20,
   "id": "95801607-613e-455f-81d1-93e4cd25d950",
   "metadata": {
    "tags": []
   },
   "outputs": [
    {
     "data": {
      "text/plain": [
       "'X'"
      ]
     },
     "execution_count": 20,
     "metadata": {},
     "output_type": "execute_result"
    }
   ],
   "source": [
    "prg_3[1].head.atom.symbol.arguments[0].values()[1]"
   ]
  },
  {
   "cell_type": "code",
   "execution_count": 21,
   "id": "2d682957-1047-4733-b006-4a24da705698",
   "metadata": {
    "tags": []
   },
   "outputs": [
    {
     "data": {
      "text/plain": [
       "'Y'"
      ]
     },
     "execution_count": 21,
     "metadata": {},
     "output_type": "execute_result"
    }
   ],
   "source": [
    "prg_3[1].head.atom.symbol.arguments[1].values()[1]"
   ]
  },
  {
   "cell_type": "markdown",
   "id": "b7032000-8301-42cf-81c2-27a73446950c",
   "metadata": {},
   "source": [
    "### rule1 body"
   ]
  },
  {
   "cell_type": "code",
   "execution_count": 22,
   "id": "846755bc-336e-4736-989a-e95afc677c0c",
   "metadata": {
    "tags": []
   },
   "outputs": [
    {
     "data": {
      "text/plain": [
       "'parent'"
      ]
     },
     "execution_count": 22,
     "metadata": {},
     "output_type": "execute_result"
    }
   ],
   "source": [
    "prg_3[1].body[0].atom.values()[0].name"
   ]
  },
  {
   "cell_type": "code",
   "execution_count": 23,
   "id": "877d90e2-1ad8-4ddb-abba-61e20d5f651f",
   "metadata": {
    "tags": []
   },
   "outputs": [
    {
     "data": {
      "text/plain": [
       "2"
      ]
     },
     "execution_count": 23,
     "metadata": {},
     "output_type": "execute_result"
    }
   ],
   "source": [
    "len(prg_3[1].body[0].atom.symbol.arguments)"
   ]
  },
  {
   "cell_type": "code",
   "execution_count": 24,
   "id": "b87819d9-0d84-47f0-a8f9-0059bf50495f",
   "metadata": {
    "tags": []
   },
   "outputs": [
    {
     "data": {
      "text/plain": [
       "'X'"
      ]
     },
     "execution_count": 24,
     "metadata": {},
     "output_type": "execute_result"
    }
   ],
   "source": [
    "prg_3[1].body[0].atom.symbol.arguments[0].values()[1]"
   ]
  },
  {
   "cell_type": "code",
   "execution_count": 25,
   "id": "91f9dbaa-fc05-4e8b-8dcd-509e9fcd7448",
   "metadata": {
    "tags": []
   },
   "outputs": [
    {
     "data": {
      "text/plain": [
       "'Z'"
      ]
     },
     "execution_count": 25,
     "metadata": {},
     "output_type": "execute_result"
    }
   ],
   "source": [
    "prg_3[1].body[0].atom.symbol.arguments[1].values()[1]"
   ]
  },
  {
   "cell_type": "code",
   "execution_count": 26,
   "id": "7d8e55a5-1b71-4ac1-9230-7a5dcbdad76c",
   "metadata": {
    "tags": []
   },
   "outputs": [
    {
     "data": {
      "text/plain": [
       "'parent'"
      ]
     },
     "execution_count": 26,
     "metadata": {},
     "output_type": "execute_result"
    }
   ],
   "source": [
    "prg_3[1].body[1].atom.values()[0].name"
   ]
  },
  {
   "cell_type": "code",
   "execution_count": 27,
   "id": "0cf3b166-2c95-4dc2-a965-71589306878b",
   "metadata": {
    "tags": []
   },
   "outputs": [
    {
     "data": {
      "text/plain": [
       "2"
      ]
     },
     "execution_count": 27,
     "metadata": {},
     "output_type": "execute_result"
    }
   ],
   "source": [
    "len(prg_3[1].body[1].atom.symbol.arguments)"
   ]
  },
  {
   "cell_type": "code",
   "execution_count": 28,
   "id": "36b99893-e664-451b-bd65-6a0104a29f89",
   "metadata": {
    "tags": []
   },
   "outputs": [
    {
     "data": {
      "text/plain": [
       "'Z'"
      ]
     },
     "execution_count": 28,
     "metadata": {},
     "output_type": "execute_result"
    }
   ],
   "source": [
    "prg_3[1].body[1].atom.symbol.arguments[0].values()[1]"
   ]
  },
  {
   "cell_type": "code",
   "execution_count": 29,
   "id": "785e0e9f-a754-462f-beee-836c7cefd7b0",
   "metadata": {
    "tags": []
   },
   "outputs": [
    {
     "data": {
      "text/plain": [
       "'Y'"
      ]
     },
     "execution_count": 29,
     "metadata": {},
     "output_type": "execute_result"
    }
   ],
   "source": [
    "prg_3[1].body[1].atom.symbol.arguments[1].values()[1]"
   ]
  },
  {
   "cell_type": "markdown",
   "id": "326aa87b-ca60-4113-bcbe-e22446ec1eed",
   "metadata": {},
   "source": [
    "## rule type2: negation"
   ]
  },
  {
   "cell_type": "code",
   "execution_count": 30,
   "id": "b25692ed-87a9-4c18-b404-b74e6e17d581",
   "metadata": {
    "tags": []
   },
   "outputs": [
    {
     "name": "stdout",
     "output_type": "stream",
     "text": [
      "Overwriting lp_files/rule_2.lp\n"
     ]
    }
   ],
   "source": [
    "%%file lp_files/rule_2.lp\n",
    "\n",
    "person(A) :- parent(A,_).\n",
    "person(B) :- parent(_,B).\n",
    "has_father_mother(A) :- person(A) , not not father(_,A), not mother(_,A).\n",
    "icv_person_has_father_mother(A) :- person(A), not has_father_mother(A). "
   ]
  },
  {
   "cell_type": "code",
   "execution_count": 31,
   "id": "6165e190-807c-492f-bb56-71e8efde565a",
   "metadata": {
    "tags": []
   },
   "outputs": [],
   "source": [
    "file_name=[\"lp_files/rule_2.lp\"]\n",
    "prg_4 = []\n",
    "ast.parse_files(file_name, lambda x: prg_4.append(x))"
   ]
  },
  {
   "cell_type": "markdown",
   "id": "4bd6db73-5bdf-411d-8812-5a318ec90fdf",
   "metadata": {
    "tags": []
   },
   "source": [
    "### negation"
   ]
  },
  {
   "cell_type": "markdown",
   "id": "f753c991-b7f0-4fa2-8b05-6574b1f0f5d7",
   "metadata": {},
   "source": [
    "in the following, we will explain how to extract the negation information from ast"
   ]
  },
  {
   "cell_type": "code",
   "execution_count": 32,
   "id": "8ff10f15-6db4-4c55-bafb-5001921b31b4",
   "metadata": {
    "tags": []
   },
   "outputs": [
    {
     "data": {
      "text/plain": [
       "ast.Literal(Location(begin=Position(filename='lp_files/rule_2.lp', line=5, column=36), end=Position(filename='lp_files/rule_2.lp', line=5, column=45)), 0, ast.SymbolicAtom(ast.Function(Location(begin=Position(filename='lp_files/rule_2.lp', line=5, column=36), end=Position(filename='lp_files/rule_2.lp', line=5, column=45)), 'person', [ast.Variable(Location(begin=Position(filename='lp_files/rule_2.lp', line=5, column=43), end=Position(filename='lp_files/rule_2.lp', line=5, column=44)), 'A')], 0)))"
      ]
     },
     "execution_count": 32,
     "metadata": {},
     "output_type": "execute_result"
    }
   ],
   "source": [
    "prg_4[4].body[0]"
   ]
  },
  {
   "cell_type": "code",
   "execution_count": 33,
   "id": "6b0370d6-7191-4111-ac74-cef7d1f2a47a",
   "metadata": {
    "tags": []
   },
   "outputs": [
    {
     "data": {
      "text/plain": [
       "ast.Literal(Location(begin=Position(filename='lp_files/rule_2.lp', line=5, column=47), end=Position(filename='lp_files/rule_2.lp', line=5, column=71)), 1, ast.SymbolicAtom(ast.Function(Location(begin=Position(filename='lp_files/rule_2.lp', line=5, column=51), end=Position(filename='lp_files/rule_2.lp', line=5, column=71)), 'has_father_mother', [ast.Variable(Location(begin=Position(filename='lp_files/rule_2.lp', line=5, column=69), end=Position(filename='lp_files/rule_2.lp', line=5, column=70)), 'A')], 0)))"
      ]
     },
     "execution_count": 33,
     "metadata": {},
     "output_type": "execute_result"
    }
   ],
   "source": [
    "prg_4[4].body[1]"
   ]
  },
  {
   "cell_type": "code",
   "execution_count": 34,
   "id": "c1c77683-777c-415f-88e3-28de33dead7f",
   "metadata": {
    "tags": []
   },
   "outputs": [
    {
     "data": {
      "text/plain": [
       "ast.Literal(Location(begin=Position(filename='lp_files/rule_2.lp', line=4, column=25), end=Position(filename='lp_files/rule_2.lp', line=4, column=34)), 0, ast.SymbolicAtom(ast.Function(Location(begin=Position(filename='lp_files/rule_2.lp', line=4, column=25), end=Position(filename='lp_files/rule_2.lp', line=4, column=34)), 'person', [ast.Variable(Location(begin=Position(filename='lp_files/rule_2.lp', line=4, column=32), end=Position(filename='lp_files/rule_2.lp', line=4, column=33)), 'A')], 0)))"
      ]
     },
     "execution_count": 34,
     "metadata": {},
     "output_type": "execute_result"
    }
   ],
   "source": [
    "prg_4[3].body[0]"
   ]
  },
  {
   "cell_type": "code",
   "execution_count": 35,
   "id": "153128a0-3279-4ced-8cce-8fd516c181e2",
   "metadata": {
    "tags": []
   },
   "outputs": [
    {
     "data": {
      "text/plain": [
       "ast.Literal(Location(begin=Position(filename='lp_files/rule_2.lp', line=4, column=37), end=Position(filename='lp_files/rule_2.lp', line=4, column=56)), 2, ast.SymbolicAtom(ast.Function(Location(begin=Position(filename='lp_files/rule_2.lp', line=4, column=45), end=Position(filename='lp_files/rule_2.lp', line=4, column=56)), 'father', [ast.Variable(Location(begin=Position(filename='lp_files/rule_2.lp', line=4, column=52), end=Position(filename='lp_files/rule_2.lp', line=4, column=53)), '_'), ast.Variable(Location(begin=Position(filename='lp_files/rule_2.lp', line=4, column=54), end=Position(filename='lp_files/rule_2.lp', line=4, column=55)), 'A')], 0)))"
      ]
     },
     "execution_count": 35,
     "metadata": {},
     "output_type": "execute_result"
    }
   ],
   "source": [
    "prg_4[3].body[1]"
   ]
  },
  {
   "cell_type": "code",
   "execution_count": 36,
   "id": "cbd396db-8d3d-4bc6-b657-7f770a31dd46",
   "metadata": {
    "tags": []
   },
   "outputs": [
    {
     "data": {
      "text/plain": [
       "ast.Literal(Location(begin=Position(filename='lp_files/rule_2.lp', line=4, column=58), end=Position(filename='lp_files/rule_2.lp', line=4, column=73)), 1, ast.SymbolicAtom(ast.Function(Location(begin=Position(filename='lp_files/rule_2.lp', line=4, column=62), end=Position(filename='lp_files/rule_2.lp', line=4, column=73)), 'mother', [ast.Variable(Location(begin=Position(filename='lp_files/rule_2.lp', line=4, column=69), end=Position(filename='lp_files/rule_2.lp', line=4, column=70)), '_'), ast.Variable(Location(begin=Position(filename='lp_files/rule_2.lp', line=4, column=71), end=Position(filename='lp_files/rule_2.lp', line=4, column=72)), 'A')], 0)))"
      ]
     },
     "execution_count": 36,
     "metadata": {},
     "output_type": "execute_result"
    }
   ],
   "source": [
    "prg_4[3].body[2]"
   ]
  },
  {
   "cell_type": "code",
   "execution_count": 37,
   "id": "9d3d33d6-8452-4801-a6b8-1bb1b682f9a0",
   "metadata": {
    "tags": []
   },
   "outputs": [
    {
     "data": {
      "text/plain": [
       "1"
      ]
     },
     "execution_count": 37,
     "metadata": {},
     "output_type": "execute_result"
    }
   ],
   "source": [
    "prg_4[4].body[1].values()[1]"
   ]
  },
  {
   "cell_type": "code",
   "execution_count": 38,
   "id": "35cba18c-aa0b-429e-b0ca-f6cc9b37a8ba",
   "metadata": {
    "tags": []
   },
   "outputs": [
    {
     "data": {
      "text/plain": [
       "0"
      ]
     },
     "execution_count": 38,
     "metadata": {},
     "output_type": "execute_result"
    }
   ],
   "source": [
    "prg_4[4].body[0].values()[1]"
   ]
  },
  {
   "cell_type": "code",
   "execution_count": 39,
   "id": "d393d384-01af-453c-b814-a451f33000ba",
   "metadata": {
    "tags": []
   },
   "outputs": [
    {
     "data": {
      "text/plain": [
       "1"
      ]
     },
     "execution_count": 39,
     "metadata": {},
     "output_type": "execute_result"
    }
   ],
   "source": [
    "prg_4[4].body[1].sign ## another way to get the sign of the literals"
   ]
  },
  {
   "cell_type": "markdown",
   "id": "7f7184d3-1020-4038-83ad-2dd698f6786f",
   "metadata": {
    "tags": []
   },
   "source": [
    "### underscore"
   ]
  },
  {
   "cell_type": "markdown",
   "id": "803e4b11-85ea-4c40-a1e6-e58ff1015e82",
   "metadata": {},
   "source": [
    "Let's take a look at the second literal of the third rule `has_father_mother(A) :- person(A) , father(_,A), not mother(_,A).`"
   ]
  },
  {
   "cell_type": "code",
   "execution_count": 40,
   "id": "0aff5ccd-e8fd-4199-9247-e9d7939fc638",
   "metadata": {
    "tags": []
   },
   "outputs": [
    {
     "data": {
      "text/plain": [
       "'_'"
      ]
     },
     "execution_count": 40,
     "metadata": {},
     "output_type": "execute_result"
    }
   ],
   "source": [
    "prg_4[3].body[1].atom.symbol.arguments[0].values()[1]"
   ]
  },
  {
   "cell_type": "code",
   "execution_count": 41,
   "id": "710d2ae6-3325-4546-b8ed-750cfaedcddd",
   "metadata": {
    "tags": []
   },
   "outputs": [
    {
     "data": {
      "text/plain": [
       "'A'"
      ]
     },
     "execution_count": 41,
     "metadata": {},
     "output_type": "execute_result"
    }
   ],
   "source": [
    "prg_4[3].body[1].atom.symbol.arguments[1].values()[1]"
   ]
  },
  {
   "cell_type": "markdown",
   "id": "697a3f68-4699-407f-87a1-0440f81fd5fa",
   "metadata": {},
   "source": [
    "## rule type3: disjunction"
   ]
  },
  {
   "cell_type": "code",
   "execution_count": 42,
   "id": "380c691d-bcd1-4d5e-8ccb-0e10b2704aab",
   "metadata": {
    "tags": []
   },
   "outputs": [
    {
     "name": "stdout",
     "output_type": "stream",
     "text": [
      "Overwriting lp_files/rule_3.lp\n"
     ]
    }
   ],
   "source": [
    "%%file lp_files/rule_3.lp\n",
    "\n",
    "d(X,Y) ; d(Y,X) :- e(X,Y)."
   ]
  },
  {
   "cell_type": "code",
   "execution_count": 43,
   "id": "a87f54a1-26cd-4a70-a939-42367d6cc4eb",
   "metadata": {
    "tags": []
   },
   "outputs": [],
   "source": [
    "file_name=[\"lp_files/rule_3.lp\"]\n",
    "prg_5 = []\n",
    "ast.parse_files(file_name, lambda x: prg_5.append(x))"
   ]
  },
  {
   "cell_type": "markdown",
   "id": "9d3734b9-d18d-4c81-81e1-1375cc8775a0",
   "metadata": {},
   "source": [
    "### disjunction"
   ]
  },
  {
   "cell_type": "code",
   "execution_count": 44,
   "id": "e2124a21-c46e-4ced-a6be-51f6961aa452",
   "metadata": {
    "tags": []
   },
   "outputs": [
    {
     "data": {
      "text/plain": [
       "'d'"
      ]
     },
     "execution_count": 44,
     "metadata": {},
     "output_type": "execute_result"
    }
   ],
   "source": [
    "prg_5[1].head.elements[0].literal.atom.symbol.name"
   ]
  },
  {
   "cell_type": "code",
   "execution_count": 45,
   "id": "880a4ab9-65bf-4bf8-b204-82c20934f29b",
   "metadata": {
    "tags": []
   },
   "outputs": [
    {
     "data": {
      "text/plain": [
       "'X'"
      ]
     },
     "execution_count": 45,
     "metadata": {},
     "output_type": "execute_result"
    }
   ],
   "source": [
    "prg_5[1].head.elements[0].literal.atom.symbol.arguments[0].values()[1]"
   ]
  },
  {
   "cell_type": "code",
   "execution_count": 46,
   "id": "6ce78d67-9d01-4070-8858-e3ccde986da6",
   "metadata": {
    "tags": []
   },
   "outputs": [
    {
     "data": {
      "text/plain": [
       "'Y'"
      ]
     },
     "execution_count": 46,
     "metadata": {},
     "output_type": "execute_result"
    }
   ],
   "source": [
    "prg_5[1].head.elements[0].literal.atom.symbol.arguments[1].values()[1]"
   ]
  },
  {
   "cell_type": "code",
   "execution_count": 47,
   "id": "cb938c4e-0384-4bb7-a958-5975fd2a2581",
   "metadata": {
    "tags": []
   },
   "outputs": [
    {
     "data": {
      "text/plain": [
       "'d'"
      ]
     },
     "execution_count": 47,
     "metadata": {},
     "output_type": "execute_result"
    }
   ],
   "source": [
    "prg_5[1].head.elements[1].literal.atom.symbol.name"
   ]
  },
  {
   "cell_type": "code",
   "execution_count": 48,
   "id": "1586d652-1339-4662-9a3e-3dd8efe81f6e",
   "metadata": {
    "tags": []
   },
   "outputs": [
    {
     "data": {
      "text/plain": [
       "'Y'"
      ]
     },
     "execution_count": 48,
     "metadata": {},
     "output_type": "execute_result"
    }
   ],
   "source": [
    "prg_5[1].head.elements[1].literal.atom.symbol.arguments[0].values()[1]"
   ]
  },
  {
   "cell_type": "code",
   "execution_count": 49,
   "id": "cc33943b-ab04-474b-9b2b-055c374d9510",
   "metadata": {
    "tags": []
   },
   "outputs": [
    {
     "data": {
      "text/plain": [
       "'X'"
      ]
     },
     "execution_count": 49,
     "metadata": {},
     "output_type": "execute_result"
    }
   ],
   "source": [
    "prg_5[1].head.elements[1].literal.atom.symbol.arguments[1].values()[1]"
   ]
  },
  {
   "cell_type": "markdown",
   "id": "c556f6c6-b543-4a42-b712-dc592579764d",
   "metadata": {},
   "source": [
    "## rule type4: formula"
   ]
  },
  {
   "cell_type": "code",
   "execution_count": 50,
   "id": "fb04abaf-f8ca-4774-82fe-09794f98be7d",
   "metadata": {
    "tags": []
   },
   "outputs": [
    {
     "name": "stdout",
     "output_type": "stream",
     "text": [
      "Overwriting lp_files/rule_4.lp\n"
     ]
    }
   ],
   "source": [
    "%%file lp_files/rule_4.lp\n",
    "\n",
    "e(X,Y) :- dom(X), dom(Y), X=Y."
   ]
  },
  {
   "cell_type": "code",
   "execution_count": 51,
   "id": "b42ae963-62ea-4af9-9b87-cc7d43afcdc8",
   "metadata": {
    "tags": []
   },
   "outputs": [],
   "source": [
    "file_name=[\"lp_files/rule_4.lp\"]\n",
    "prg_6 = []\n",
    "ast.parse_files(file_name, lambda x: prg_6.append(x))"
   ]
  },
  {
   "cell_type": "code",
   "execution_count": 52,
   "id": "bfaec2d4-ebc2-4c89-81cb-e802f76fa4b8",
   "metadata": {
    "tags": []
   },
   "outputs": [
    {
     "data": {
      "text/plain": [
       "'dom'"
      ]
     },
     "execution_count": 52,
     "metadata": {},
     "output_type": "execute_result"
    }
   ],
   "source": [
    "prg_6[1].body[0].atom.symbol.name"
   ]
  },
  {
   "cell_type": "code",
   "execution_count": 53,
   "id": "8c01c70c-838c-4820-8280-6647df42ed0a",
   "metadata": {
    "tags": []
   },
   "outputs": [
    {
     "data": {
      "text/plain": [
       "ast.Variable(Location(begin=Position(filename='lp_files/rule_4.lp', line=2, column=27), end=Position(filename='lp_files/rule_4.lp', line=2, column=28)), 'X')"
      ]
     },
     "execution_count": 53,
     "metadata": {},
     "output_type": "execute_result"
    }
   ],
   "source": [
    "prg_6[1].body[2].atom.values()[0]"
   ]
  },
  {
   "cell_type": "code",
   "execution_count": 54,
   "id": "9e7905c5-58a6-4c9d-9d42-f8c8ac8a7d32",
   "metadata": {
    "tags": []
   },
   "outputs": [
    {
     "data": {
      "text/plain": [
       "'X'"
      ]
     },
     "execution_count": 54,
     "metadata": {},
     "output_type": "execute_result"
    }
   ],
   "source": [
    "prg_6[1].body[2].atom.values()[0].values()[1]"
   ]
  },
  {
   "cell_type": "code",
   "execution_count": 55,
   "id": "84f04f16-cb6f-4cd7-afd1-e591745cd337",
   "metadata": {
    "tags": []
   },
   "outputs": [
    {
     "data": {
      "text/plain": [
       "5"
      ]
     },
     "execution_count": 55,
     "metadata": {},
     "output_type": "execute_result"
    }
   ],
   "source": [
    "prg_6[1].body[2].atom.values()[1][0].values()[0]"
   ]
  },
  {
   "cell_type": "code",
   "execution_count": 56,
   "id": "c14e1dec-56f7-40cc-b0f2-6d964e1db7a3",
   "metadata": {
    "tags": []
   },
   "outputs": [
    {
     "data": {
      "text/plain": [
       "'Y'"
      ]
     },
     "execution_count": 56,
     "metadata": {},
     "output_type": "execute_result"
    }
   ],
   "source": [
    "prg_6[1].body[2].atom.values()[1][0].values()[1].values()[1]"
   ]
  },
  {
   "cell_type": "markdown",
   "id": "68031758-b9cc-4bba-9958-fdc40bbb04f9",
   "metadata": {},
   "source": [
    "ComparisonOperator_Dictionary<br>\n",
    "`=` :  5 <br>\n",
    "`!=` : 4<br>\n",
    "`>=`: 3<br>\n",
    "`<=`: 2<br>\n",
    "`<`: 1<br>\n",
    "`>`:0<br>"
   ]
  }
 ],
 "metadata": {
  "kernelspec": {
   "display_name": "Python 3 (ipykernel)",
   "language": "python",
   "name": "python3"
  },
  "language_info": {
   "codemirror_mode": {
    "name": "ipython",
    "version": 3
   },
   "file_extension": ".py",
   "mimetype": "text/x-python",
   "name": "python",
   "nbconvert_exporter": "python",
   "pygments_lexer": "ipython3",
   "version": "3.8.16"
  }
 },
 "nbformat": 4,
 "nbformat_minor": 5
}
