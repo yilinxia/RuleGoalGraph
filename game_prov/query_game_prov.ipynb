{
 "cells": [
  {
   "cell_type": "code",
   "execution_count": 1,
   "id": "5d4a9b78-bfb7-4373-9e37-202a4d13968c",
   "metadata": {
    "tags": []
   },
   "outputs": [],
   "source": [
    "from game_prov_color import *"
   ]
  },
  {
   "cell_type": "markdown",
   "id": "6fcb95c1-3c7c-4697-8bd8-1941db49a765",
   "metadata": {},
   "source": [
    "# Game-Provenance Graph"
   ]
  },
  {
   "cell_type": "markdown",
   "id": "8bba1c39-9d4a-47e0-9eb1-0a9bc819fb57",
   "metadata": {
    "tags": []
   },
   "source": [
    "this notebook aims to explain how to transform a graph into `game-provenance` graph"
   ]
  },
  {
   "cell_type": "markdown",
   "id": "72f7b01f-db12-4939-98d2-474520d64215",
   "metadata": {},
   "source": [
    "let's take the following graph as an example<br>\n",
    "![](files/plain_gv.png)"
   ]
  },
  {
   "cell_type": "markdown",
   "id": "0629e519-b424-477f-9f2f-9ecf7a020c71",
   "metadata": {},
   "source": [
    "## Use Case 1"
   ]
  },
  {
   "cell_type": "markdown",
   "id": "eb7b2d7d-6b01-468d-bf9b-da963b5ae5e9",
   "metadata": {
    "tags": []
   },
   "source": [
    "To better reason on this graph for further analysis, let's turn it into facts"
   ]
  },
  {
   "cell_type": "code",
   "execution_count": 2,
   "id": "1de3a63f-133e-4913-86ec-dd76d5c32f1b",
   "metadata": {
    "tags": []
   },
   "outputs": [
    {
     "name": "stdout",
     "output_type": "stream",
     "text": [
      "Overwriting files/plain_graph.lp\n"
     ]
    }
   ],
   "source": [
    "%%file files/plain_graph.lp\n",
    "\n",
    "move(a,b).\n",
    "move(a,c).\n",
    "move(k,l).\n",
    "move(c,d).\n",
    "move(c,e).\n",
    "move(l,e).\n",
    "move(l,m).\n",
    "move(d,e).\n",
    "move(e,d).\n",
    "move(e,m).\n",
    "move(m,e).\n",
    "move(d,f).\n",
    "move(d,g).\n",
    "move(g,d).\n",
    "move(e,h).\n",
    "move(m,n).\n",
    "move(n,m)."
   ]
  },
  {
   "cell_type": "code",
   "execution_count": 3,
   "id": "b42fb6e2-ad6c-4b32-b425-2071a06df5df",
   "metadata": {
    "tags": []
   },
   "outputs": [],
   "source": [
    "generate_graph(\"./files/plain_graph.lp\")"
   ]
  }
 ],
 "metadata": {
  "kernelspec": {
   "display_name": "Python 3 (ipykernel)",
   "language": "python",
   "name": "python3"
  },
  "language_info": {
   "codemirror_mode": {
    "name": "ipython",
    "version": 3
   },
   "file_extension": ".py",
   "mimetype": "text/x-python",
   "name": "python",
   "nbconvert_exporter": "python",
   "pygments_lexer": "ipython3",
   "version": "3.8.16"
  }
 },
 "nbformat": 4,
 "nbformat_minor": 5
}
